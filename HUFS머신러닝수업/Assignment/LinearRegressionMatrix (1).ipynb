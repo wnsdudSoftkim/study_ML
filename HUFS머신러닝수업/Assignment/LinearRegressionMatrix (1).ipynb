{
 "cells": [
  {
   "cell_type": "code",
   "execution_count": 1,
   "metadata": {
    "ExecuteTime": {
     "end_time": "2020-05-07T07:33:09.906171Z",
     "start_time": "2020-05-07T07:33:09.642871Z"
    },
    "scrolled": true
   },
   "outputs": [
    {
     "name": "stdout",
     "output_type": "stream",
     "text": [
      "[[2.00395281]\n",
      " [0.89796233]]\n"
     ]
    },
    {
     "data": {
      "image/png": "[encoded data removed]",
      "text/plain": [
       "<Figure size 432x288 with 1 Axes>"
      ]
     },
     "metadata": {
      "needs_background": "light"
     },
     "output_type": "display_data"
    }
   ],
   "source": [
    "import numpy as np\n",
    "import matplotlib.pyplot as plt       # 그래프를 그리기 위해 불러온다.\n",
    "\n",
    "num_data = 101                                            # 101개의 데이터를 생성한다.\n",
    "x_train = np.linspace(-1, 1, num_data)\n",
    "y_train = 2 * x_train + 1 + np.random.randn(*x_train.shape) * 0.5\n",
    "\n",
    "X = np.matrix(np.column_stack((x_train, np.ones(num_data))))  # x_train을 행렬로 변환시킨다.\n",
    "y= np.matrix(y_train).T                                       # y_train을 행렬로 변환시킨다.\n",
    "\n",
    "C = X.T * X                                            # X.transpose * X matrix를 구한다.\n",
    "C_inv = C.I                                            # C의 역행렬\n",
    "\n",
    "w = C_inv * X.T * y\n",
    "\n",
    "print(w)\n",
    "\n",
    "plt.scatter(x_train, y_train)\n",
    "y_learned = X * w\n",
    "plt.plot(x_train, y_learned, 'r' )\n",
    "plt.show()"
   ]
  },
  {
   "cell_type": "code",
   "execution_count": null,
   "metadata": {
    "ExecuteTime": {
     "end_time": "2020-04-16T07:09:14.736933Z",
     "start_time": "2020-04-16T07:09:14.041792Z"
    }
   },
   "outputs": [],
   "source": [
    "import numpy as np\n",
    "import matplotlib.pyplot as plt       # 그래프를 그리기 위해 불러온다.\n",
    "\n",
    "num_data = 101                                            # 101개의 데이터를 생성한다.\n",
    "x_train = np.linspace(-1, 1, num_data)\n",
    "y_train = 2 * x_train + 1 + np.random.randn(*x_train.shape) * 0.5\n",
    "x_train"
   ]
  },
  {
   "cell_type": "code",
   "execution_count": null,
   "metadata": {
    "ExecuteTime": {
     "end_time": "2020-04-16T07:18:50.037319Z",
     "start_time": "2020-04-16T07:18:50.023400Z"
    }
   },
   "outputs": [],
   "source": [
    "X = np.matrix(np.column_stack((x_train, np.ones(num_data))))  # x_train을 행렬로 변환시킨다.\n",
    "X"
   ]
  },
  {
   "cell_type": "code",
   "execution_count": null,
   "metadata": {
    "ExecuteTime": {
     "end_time": "2020-04-16T07:19:14.493415Z",
     "start_time": "2020-04-16T07:19:14.480449Z"
    }
   },
   "outputs": [],
   "source": [
    "y= np.matrix(y_train).T   # y_train을 행렬로 변환시킨다.\n",
    "y"
   ]
  },
  {
   "cell_type": "code",
   "execution_count": null,
   "metadata": {
    "ExecuteTime": {
     "end_time": "2020-04-16T07:24:17.940495Z",
     "start_time": "2020-04-16T07:24:17.930522Z"
    }
   },
   "outputs": [],
   "source": [
    "C = X.T * X                                            # X.transpose * X matrix를 구한다.\n",
    "C_inv = C.I                                            # C의 역행렬\n",
    "\n",
    "w = C_inv * X.T * y\n",
    "print(w)"
   ]
  }
 ],
 "metadata": {
  "kernelspec": {
   "display_name": "Python 3",
   "language": "python",
   "name": "python3"
  },
  "language_info": {
   "codemirror_mode": {
    "name": "ipython",
    "version": 3
   },
   "file_extension": ".py",
   "mimetype": "text/x-python",
   "name": "python",
   "nbconvert_exporter": "python",
   "pygments_lexer": "ipython3",
   "version": "3.8.5"
  },
  "varInspector": {
   "cols": {
    "lenName": 16,
    "lenType": 16,
    "lenVar": 40
   },
   "kernels_config": {
    "python": {
     "delete_cmd_postfix": "",
     "delete_cmd_prefix": "del ",
     "library": "var_list.py",
     "varRefreshCmd": "print(var_dic_list())"
    },
    "r": {
     "delete_cmd_postfix": ") ",
     "delete_cmd_prefix": "rm(",
     "library": "var_list.r",
     "varRefreshCmd": "cat(var_dic_list()) "
    }
   },
   "types_to_exclude": [
    "module",
    "function",
    "builtin_function_or_method",
    "instance",
    "_Feature"
   ],
   "window_display": false
  }
 },
 "nbformat": 4,
 "nbformat_minor": 2
}
